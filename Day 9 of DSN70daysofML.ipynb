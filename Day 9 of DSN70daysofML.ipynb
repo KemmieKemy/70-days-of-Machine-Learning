{
 "cells": [
  {
   "cell_type": "markdown",
   "metadata": {},
   "source": [
    "# Day 9: 70 Days Pre-Bootcamp Online Class with Data Science Nigeria - Machine Learning Stream #DSN70daysofML\n",
    "How to program the Best Fit Line<br>\n",
    "*Note;*\n",
    "* m = slope\n",
    "![title](m.PNG)\n",
    "* b = intercept\n",
    "![title](b.PNG)"
   ]
  },
  {
   "cell_type": "code",
   "execution_count": 1,
   "metadata": {},
   "outputs": [],
   "source": [
    "from statistics import mean\n",
    "import numpy as np\n",
    "import matplotlib.pyplot as plt\n",
    "from matplotlib import style\n",
    "style.use('fivethirtyeight')"
   ]
  },
  {
   "cell_type": "code",
   "execution_count": 2,
   "metadata": {},
   "outputs": [],
   "source": [
    "xs = np.array([1,2,3,4,5,6], dtype = np.float64)\n",
    "ys = np.array([5,4,6,5,6,7], dtype = np.float64)"
   ]
  },
  {
   "cell_type": "code",
   "execution_count": 3,
   "metadata": {},
   "outputs": [],
   "source": [
    "def best_fit_slope_and_intercept(xs,ys):\n",
    "    m = ( ((mean(xs) * mean(ys)) - mean(xs*ys)) / \n",
    "            ((mean(xs)**2) - mean(xs**2)) )\n",
    "    b = mean(ys) - m*mean(xs)\n",
    "    return m, b"
   ]
  },
  {
   "cell_type": "code",
   "execution_count": 4,
   "metadata": {},
   "outputs": [
    {
     "name": "stdout",
     "output_type": "stream",
     "text": [
      "The best fit slope is 0.42857142857142866\n",
      "The intercept is 4.0\n"
     ]
    }
   ],
   "source": [
    "m, b = best_fit_slope_and_intercept(xs,ys)\n",
    "print(f'The best fit slope is {m}')\n",
    "print(f'The intercept is {b}')\n",
    "regression_line = [(m*x)+b for x in xs] #y =  mx + b\n",
    "\n",
    "predict_x = 8\n",
    "predict_y = (m*predict_x)+ b"
   ]
  },
  {
   "cell_type": "code",
   "execution_count": 5,
   "metadata": {},
   "outputs": [
    {
     "data": {
      "image/png": "[encoded data removed]",
      "text/plain": [
       "<Figure size 432x288 with 1 Axes>"
      ]
     },
     "metadata": {},
     "output_type": "display_data"
    }
   ],
   "source": [
    "#plot\n",
    "plt.scatter(xs,ys, color = 'purple')\n",
    "plt.scatter(predict_x, predict_y, color = 'g')\n",
    "plt.plot(xs, regression_line, color = 'red')\n",
    "plt.show()"
   ]
  },
  {
   "cell_type": "code",
   "execution_count": null,
   "metadata": {},
   "outputs": [],
   "source": []
  }
 ],
 "metadata": {
  "kernelspec": {
   "display_name": "Python 3",
   "language": "python",
   "name": "python3"
  },
  "language_info": {
   "codemirror_mode": {
    "name": "ipython",
    "version": 3
   },
   "file_extension": ".py",
   "mimetype": "text/x-python",
   "name": "python",
   "nbconvert_exporter": "python",
   "pygments_lexer": "ipython3",
   "version": "3.7.6"
  }
 },
 "nbformat": 4,
 "nbformat_minor": 4
}
