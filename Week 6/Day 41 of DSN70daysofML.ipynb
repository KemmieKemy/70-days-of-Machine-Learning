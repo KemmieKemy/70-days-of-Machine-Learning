{
 "cells": [
  {
   "cell_type": "markdown",
   "metadata": {},
   "source": [
    "# Day 41: 70 Days Pre-Bootcamp Online Class with Data Science Nigeria - Machine Learning Stream #DSN70daysofML\n",
    "Mean Shift from Scratch <br>\n",
    "<b> Notes; </b>\n",
    "* Mean Shift method is to;\n",
    "    1. Make all datapoints centroids\n",
    "    2. Take mean of all featuresets within centroid's radius, setting this mean as new centroid.\n",
    "    3. Repeat step #2 until convergence.\n",
    "* In Mean Shift algorithm, a new cluster center is created by taking the mean of all the data within the radius of the old cluster center .<br>\n",
    "* The function \"set()\" returns unique elements.<br>\n",
    "* Convergence of new centroid values is the test for knowing when to stop finding new centroids .<br>"
   ]
  },
  {
   "cell_type": "code",
   "execution_count": 1,
   "metadata": {},
   "outputs": [],
   "source": [
    "#import libraries\n",
    "import numpy as np\n",
    "\n",
    "\n",
    "import matplotlib.pyplot as plt\n",
    "from matplotlib import style\n",
    "style.use('ggplot')"
   ]
  },
  {
   "cell_type": "code",
   "execution_count": 2,
   "metadata": {},
   "outputs": [],
   "source": [
    "data = np.array([[1, 2],\n",
    "              [1.5, 1.8],\n",
    "              [5, 8 ],\n",
    "              [8, 8],\n",
    "              [1, 0.6],\n",
    "              [9,11],\n",
    "              [8,2],\n",
    "              [10,2],\n",
    "              [9,3],])"
   ]
  },
  {
   "cell_type": "code",
   "execution_count": 3,
   "metadata": {},
   "outputs": [
    {
     "data": {
      "image/png": "[encoded data removed]",
      "text/plain": [
       "<Figure size 432x288 with 1 Axes>"
      ]
     },
     "metadata": {},
     "output_type": "display_data"
    }
   ],
   "source": [
    "plt.scatter(data[:,0], data[:,1], s=150)\n",
    "plt.show()\n",
    "\n",
    "colors = 10*['g', 'r', 'c', 'b', 'k']"
   ]
  },
  {
   "cell_type": "code",
   "execution_count": 4,
   "metadata": {},
   "outputs": [],
   "source": [
    "# With K Means, we told the machine that we wanted 'k' clusters (2). \n",
    "# With Mean Shift, we're expecting that the machine just figures that out on its own, \n",
    "#and, for us, we're expecting three groups with the code.\n",
    "class Mean_Shift:\n",
    "    def __init__(self, radius=4): #the radius of 4 was estimated\n",
    "        self.radius = radius\n",
    "    def fit(self, data):\n",
    "        centroids = {}\n",
    "\n",
    "        for i in range(len(data)):\n",
    "            centroids[i] = data[i]\n",
    "        while True:\n",
    "            new_centroids = []\n",
    "            for i in centroids:\n",
    "                in_bandwidth = []\n",
    "                centroid = centroids[i]\n",
    "                for featureset in data:\n",
    "                    if np.linalg.norm(featureset-centroid) < self.radius:\n",
    "                        in_bandwidth.append(featureset)\n",
    "\n",
    "                new_centroid = np.average(in_bandwidth,axis=0)\n",
    "                new_centroids.append(tuple(new_centroid))\n",
    "\n",
    "# Here, we begin iterating through each centroid, and finding all featuresets in range. \n",
    "# From there, we are taking the average, and setting that average as the \"new centroid.\" \n",
    "#Finally, we're creating a uniques variable, which tracks the sorted list of all known centroids. \n",
    "# We use set here since there may be duplicates, and duplicate centroids are really just the same centroid.                \n",
    "            uniques = sorted(list(set(new_centroids)))\n",
    "            prev_centroids = dict(centroids)\n",
    "\n",
    "            centroids = {}\n",
    "            for i in range(len(uniques)):\n",
    "                centroids[i] = np.array(uniques[i])\n",
    "\n",
    "            optimized = True\n",
    "\n",
    "            for i in centroids:\n",
    "                if not np.array_equal(centroids[i], prev_centroids[i]):\n",
    "                    optimized = False\n",
    "                if not optimized:\n",
    "                    break\n",
    "                \n",
    "            if optimized:\n",
    "                break\n",
    "\n",
    "        self.centroids = centroids"
   ]
  },
  {
   "cell_type": "code",
   "execution_count": 5,
   "metadata": {},
   "outputs": [
    {
     "data": {
      "image/png": "[encoded data removed]",
      "text/plain": [
       "<Figure size 432x288 with 1 Axes>"
      ]
     },
     "metadata": {},
     "output_type": "display_data"
    }
   ],
   "source": [
    "clf = Mean_Shift()\n",
    "clf.fit(data)\n",
    "\n",
    "centroids = clf.centroids\n",
    "\n",
    "plt.scatter(data[:,0], data[:,1], s=150)\n",
    "\n",
    "for c in centroids:\n",
    "    plt.scatter(centroids[c][0], centroids[c][1], color='k', marker='*', s=150)\n",
    "\n",
    "plt.show()"
   ]
  },
  {
   "cell_type": "code",
   "execution_count": null,
   "metadata": {},
   "outputs": [],
   "source": []
  }
 ],
 "metadata": {
  "kernelspec": {
   "display_name": "Python 3",
   "language": "python",
   "name": "python3"
  },
  "language_info": {
   "codemirror_mode": {
    "name": "ipython",
    "version": 3
   },
   "file_extension": ".py",
   "mimetype": "text/x-python",
   "name": "python",
   "nbconvert_exporter": "python",
   "pygments_lexer": "ipython3",
   "version": "3.7.6"
  }
 },
 "nbformat": 4,
 "nbformat_minor": 4
}
