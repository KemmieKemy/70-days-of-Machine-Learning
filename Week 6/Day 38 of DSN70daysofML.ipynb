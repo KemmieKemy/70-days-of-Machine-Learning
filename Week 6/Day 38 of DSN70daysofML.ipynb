{
 "cells": [
  {
   "cell_type": "markdown",
   "metadata": {},
   "source": [
    "# Day 38: 70 Days Pre-Bootcamp Online Class with Data Science Nigeria - Machine Learning Stream #DSN70daysofML\n",
    "K Means from Scratch <br>\n",
    "<b> Notes; </b>\n",
    "* When centroids move more than the tolerance, optimization has not been reached.<br>\n",
    "* For every data point, the euclidean distance to the centroid is computed."
   ]
  },
  {
   "cell_type": "code",
   "execution_count": 1,
   "metadata": {},
   "outputs": [],
   "source": [
    "#import libraries\n",
    "import numpy as np\n",
    "from sklearn.cluster import KMeans\n",
    "\n",
    "import matplotlib.pyplot as plt\n",
    "from matplotlib import style\n",
    "style.use('ggplot')"
   ]
  },
  {
   "cell_type": "code",
   "execution_count": 2,
   "metadata": {},
   "outputs": [],
   "source": [
    "data = np.array ([[1, 2],\n",
    "             [1.5, 1.8],\n",
    "             [5, 8],\n",
    "             [8, 8],\n",
    "             [1, 0.6],\n",
    "             [9, 11],\n",
    "            [1,3],\n",
    "            [8,9],\n",
    "            [0,3],\n",
    "            [5,4],\n",
    "            [6,4]])"
   ]
  },
  {
   "cell_type": "code",
   "execution_count": 3,
   "metadata": {},
   "outputs": [
    {
     "data": {
      "image/png": "[encoded data removed]",
      "text/plain": [
       "<Figure size 432x288 with 1 Axes>"
      ]
     },
     "metadata": {},
     "output_type": "display_data"
    }
   ],
   "source": [
    "plt.scatter(data[:,0], data[:,1], s=150)\n",
    "plt.show()"
   ]
  },
  {
   "cell_type": "code",
   "execution_count": 4,
   "metadata": {},
   "outputs": [],
   "source": [
    "colors = 10*['g', 'r', 'c', 'b', 'k']"
   ]
  },
  {
   "cell_type": "code",
   "execution_count": 5,
   "metadata": {},
   "outputs": [],
   "source": [
    "#tol - tolerance, max_iter - max iteration\n",
    "class K_Means:\n",
    "    def __init__(self, k=2, tol=0.0001, max_iter=300):\n",
    "        self.k = k\n",
    "        self.tol = tol\n",
    "        self.max_iter = max_iter\n",
    "        \n",
    "    def fit(self, data):\n",
    "        \n",
    "        self.centroids = {}\n",
    "        \n",
    "        for i in range(self.k):\n",
    "            self.centroids[i] = data[i]\n",
    "            \n",
    "            \n",
    "        for i in range(self.max_iter):\n",
    "            self.classifications = {}\n",
    "            \n",
    "        for i in range(self.k):\n",
    "            self.classifications[i] = []\n",
    "        \n",
    "        for featureset in data:\n",
    "            distances = [np.linalg.norm(featureset-self.centroids[centroid]) for centroid in self.centroids]\n",
    "            classification = distances.index(min(distances))\n",
    "            self.classifications[classification].append(featureset)\n",
    "        \n",
    "        prev_centroids = dict(self.centroids)\n",
    "\n",
    "    \n",
    "        for classification in self.classifications:\n",
    "            self.centroids[classification] = np.average(self.classifications[classification], axis=0)\n",
    "        \n",
    "        optimized = True\n",
    "        \n",
    "        for c in self.centroids:\n",
    "            original_centroid = prev_centroids[c]\n",
    "            current_centroid = self.centroids[c]\n",
    "            if abs(np.sum((current_centroid - original_centroid)/original_centroid*100.0)) > self.tol:\n",
    "                #print(np.sum((current_centroid - original_centroid)/original_centroid*100.0)) #number of iterations\n",
    "                optimized = False\n",
    "        \n",
    "            if optimized:\n",
    "                break\n",
    "        \n",
    "    def predict(self, data):\n",
    "        distances = [np.linalg.norm(data-self.centroids[centroid]) for centroid in self.centroids]\n",
    "        classification = distances.index(min(distances))\n",
    "        return classification"
   ]
  },
  {
   "cell_type": "code",
   "execution_count": 6,
   "metadata": {},
   "outputs": [],
   "source": [
    "clf = K_Means()\n",
    "clf.fit(data)"
   ]
  },
  {
   "cell_type": "code",
   "execution_count": 7,
   "metadata": {},
   "outputs": [
    {
     "data": {
      "image/png": "[encoded data removed]",
      "text/plain": [
       "<Figure size 432x288 with 1 Axes>"
      ]
     },
     "metadata": {},
     "output_type": "display_data"
    }
   ],
   "source": [
    "for centroid in clf.centroids:\n",
    "    plt.scatter(clf.centroids[centroid][0], clf.centroids[centroid][1],\n",
    "               marker = 'o', color = 'k', s=150, linewidths=5)\n",
    "\n",
    "for classification in clf.classifications:\n",
    "    color = colors[classification]\n",
    "    for featureset in clf.classifications[classification]:\n",
    "        plt.scatter(featureset[0], featureset[1], marker = 'x', color = color, s=150, linewidths=5)\n",
    "\n",
    "plt.show()"
   ]
  },
  {
   "cell_type": "code",
   "execution_count": null,
   "metadata": {},
   "outputs": [],
   "source": []
  }
 ],
 "metadata": {
  "kernelspec": {
   "display_name": "Python 3",
   "language": "python",
   "name": "python3"
  },
  "language_info": {
   "codemirror_mode": {
    "name": "ipython",
    "version": 3
   },
   "file_extension": ".py",
   "mimetype": "text/x-python",
   "name": "python",
   "nbconvert_exporter": "python",
   "pygments_lexer": "ipython3",
   "version": "3.7.6"
  }
 },
 "nbformat": 4,
 "nbformat_minor": 4
}
