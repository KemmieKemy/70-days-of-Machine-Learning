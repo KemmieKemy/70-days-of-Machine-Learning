{
 "cells": [
  {
   "cell_type": "markdown",
   "metadata": {},
   "source": [
    "# Day 12: 70 Days Pre-Bootcamp Online Class with Data Science Nigeria - Machine Learning Stream #DSN70daysofML\n",
    "Testing Assumptions <br>\n",
    "*Note;*\n",
    "* Making correlation 'false' rather than either positive or negative makes the best line of fit becomes flat.\n",
    "* The correlation between the variance and R-squared value is that the higher the variance the lower the R-squared value.\n",
    "* \"random\" library is used to generate random numbers."
   ]
  },
  {
   "cell_type": "code",
   "execution_count": 1,
   "metadata": {},
   "outputs": [],
   "source": [
    "from statistics import mean\n",
    "import numpy as np\n",
    "import matplotlib.pyplot as plt\n",
    "from matplotlib import style\n",
    "import random\n",
    "\n",
    "style.use('fivethirtyeight')"
   ]
  },
  {
   "cell_type": "code",
   "execution_count": 2,
   "metadata": {},
   "outputs": [],
   "source": [
    "#create dataset\n",
    "def create_dataset(hm, variance, step=2, correlation=False): #hm = 'How many data points do you want to create'\n",
    "    val = 1\n",
    "    ys = []\n",
    "    for i in range(hm):\n",
    "        y = val + random.randrange(-variance, variance)\n",
    "        ys.append(y)\n",
    "        if correlation and correlation == 'pos':\n",
    "            val += step\n",
    "        elif correlation and correlation == 'neg':\n",
    "            val -= step\n",
    "    xs = [i for i in range(len(ys))]\n",
    "    return np.array(xs, dtype=np.float64), np.array(ys, dtype=np.float64)"
   ]
  },
  {
   "cell_type": "code",
   "execution_count": 3,
   "metadata": {},
   "outputs": [],
   "source": [
    "def best_fit_slope_and_intercept(xs,ys):\n",
    "    m = ( ((mean(xs) * mean(ys)) - mean(xs*ys)) / \n",
    "            ((mean(xs)**2) - mean(xs**2)) )\n",
    "    b = mean(ys) - m*mean(xs)\n",
    "    return m, b"
   ]
  },
  {
   "cell_type": "code",
   "execution_count": 4,
   "metadata": {},
   "outputs": [],
   "source": [
    "xs,ys = create_dataset(40, 40, 2, correlation='pos')"
   ]
  },
  {
   "cell_type": "code",
   "execution_count": 5,
   "metadata": {},
   "outputs": [
    {
     "name": "stdout",
     "output_type": "stream",
     "text": [
      "The best fit slope is 2.3038461538461537\n",
      "The intercept is -4.299999999999997\n"
     ]
    }
   ],
   "source": [
    "m, b = best_fit_slope_and_intercept(xs,ys)\n",
    "print(f'The best fit slope is {m}')\n",
    "print(f'The intercept is {b}')\n",
    "regression_line = [(m*x)+b for x in xs] #y =  mx + b\n",
    "\n",
    "predict_x = 8\n",
    "predict_y = (m*predict_x)+ b"
   ]
  },
  {
   "cell_type": "code",
   "execution_count": 6,
   "metadata": {},
   "outputs": [
    {
     "data": {
      "image/png": "[encoded data removed]",
      "text/plain": [
       "<Figure size 432x288 with 1 Axes>"
      ]
     },
     "metadata": {},
     "output_type": "display_data"
    }
   ],
   "source": [
    "#plot\n",
    "plt.scatter(xs,ys, color = 'purple')\n",
    "plt.scatter(predict_x, predict_y, color = 'g')\n",
    "plt.plot(xs, regression_line, color = 'red')\n",
    "plt.show()"
   ]
  },
  {
   "cell_type": "code",
   "execution_count": 7,
   "metadata": {},
   "outputs": [],
   "source": [
    "#function to calculate Squared error\n",
    "def squared_error(ys_original,ys_line):\n",
    "    return sum((ys_line-ys_original)**2)\n",
    "\n",
    "def coefficient_of_determination(ys_original,ys_line):\n",
    "    y_mean_line = [mean(ys_original) for ys in ys_original]\n",
    "    squared_error_regr = squared_error(ys_original, ys_line)\n",
    "    squared_error_y_mean = squared_error(ys_original, y_mean_line)\n",
    "    return 1 - (squared_error_regr/ squared_error_y_mean)"
   ]
  },
  {
   "cell_type": "code",
   "execution_count": 8,
   "metadata": {},
   "outputs": [
    {
     "name": "stdout",
     "output_type": "stream",
     "text": [
      "0.556700908816204\n"
     ]
    }
   ],
   "source": [
    "r_squared = coefficient_of_determination(ys,regression_line)\n",
    "print(r_squared)"
   ]
  },
  {
   "cell_type": "code",
   "execution_count": null,
   "metadata": {},
   "outputs": [],
   "source": []
  }
 ],
 "metadata": {
  "kernelspec": {
   "display_name": "Python 3",
   "language": "python",
   "name": "python3"
  },
  "language_info": {
   "codemirror_mode": {
    "name": "ipython",
    "version": 3
   },
   "file_extension": ".py",
   "mimetype": "text/x-python",
   "name": "python",
   "nbconvert_exporter": "python",
   "pygments_lexer": "ipython3",
   "version": "3.7.6"
  }
 },
 "nbformat": 4,
 "nbformat_minor": 4
}
