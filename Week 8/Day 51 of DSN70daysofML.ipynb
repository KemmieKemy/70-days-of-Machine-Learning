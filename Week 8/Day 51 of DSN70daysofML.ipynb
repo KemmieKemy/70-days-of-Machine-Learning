{
 "cells": [
  {
   "cell_type": "markdown",
   "metadata": {},
   "source": [
    "# Day 51: 70 Days Pre-Bootcamp Online Class with Data Science Nigeria - Machine Learning Stream #DSN70daysofML\n",
    "Using More Data <br>"
   ]
  },
  {
   "cell_type": "markdown",
   "metadata": {},
   "source": [
    "## Pre-processing script:"
   ]
  },
  {
   "cell_type": "code",
   "execution_count": null,
   "metadata": {},
   "outputs": [],
   "source": [
    "#import libraries\n",
    "import nltk\n",
    "from nltk.tokenize import word_tokenize\n",
    "from nltk.stem import WordNetLemmatizer\n",
    "import pickle\n",
    "import numpy as np\n",
    "import pandas as pd\n",
    "\n",
    "lemmatizer = WordNetLemmatizer()\n",
    "\n",
    "'''\n",
    "polarity 0 = negative. 2 = neutral. 4 = positive.\n",
    "id\n",
    "date\n",
    "query\n",
    "user\n",
    "tweet\n",
    "'''"
   ]
  },
  {
   "cell_type": "code",
   "execution_count": null,
   "metadata": {},
   "outputs": [],
   "source": [
    "def init_process(fin,fout):\n",
    "    outfile = open(fout,'a')\n",
    "    with open(fin, buffering=200000, encoding='latin-1') as f:\n",
    "        try:\n",
    "            for line in f:\n",
    "                line = line.replace('\"','')\n",
    "                initial_polarity = line.split(',')[0]\n",
    "                if initial_polarity == '0':\n",
    "                    initial_polarity = [1,0]\n",
    "                elif initial_polarity == '4':\n",
    "                    initial_polarity = [0,1]\n",
    "\n",
    "                tweet = line.split(',')[-1]\n",
    "                outline = str(initial_polarity)+':::'+tweet\n",
    "                outfile.write(outline)\n",
    "        except Exception as e:\n",
    "            print(str(e))\n",
    "    outfile.close()"
   ]
  },
  {
   "cell_type": "code",
   "execution_count": null,
   "metadata": {},
   "outputs": [],
   "source": [
    "init_process('training.1600000.processed.noemoticon.csv','train_set.csv')\n",
    "init_process('testdata.manual.2009.06.14.csv','test_set.csv')"
   ]
  },
  {
   "cell_type": "code",
   "execution_count": null,
   "metadata": {},
   "outputs": [],
   "source": [
    "def create_lexicon(fin):\n",
    "    lexicon = []\n",
    "    with open(fin, 'r', buffering=100000, encoding='latin-1') as f:\n",
    "        try:\n",
    "            counter = 1\n",
    "            content = ''\n",
    "            for line in f:\n",
    "                counter += 1\n",
    "                if (counter/2500.0).is_integer():\n",
    "                    tweet = line.split(':::')[1]\n",
    "                    content += ' '+tweet\n",
    "                    words = word_tokenize(content)\n",
    "                    words = [lemmatizer.lemmatize(i) for i in words]\n",
    "                    lexicon = list(set(lexicon + words))\n",
    "                    print(counter, len(lexicon))\n",
    "\n",
    "        except Exception as e:\n",
    "            print(str(e))\n",
    "\n",
    "    with open('lexicon-2500-2638.pickle','wb') as f:\n",
    "        pickle.dump(lexicon,f)"
   ]
  },
  {
   "cell_type": "code",
   "execution_count": null,
   "metadata": {},
   "outputs": [],
   "source": [
    "create_lexicon('train_set.csv')"
   ]
  },
  {
   "cell_type": "code",
   "execution_count": null,
   "metadata": {},
   "outputs": [],
   "source": [
    "def create_test_data_pickle(fin):\n",
    "\n",
    "    feature_sets = []\n",
    "    labels = []\n",
    "    counter = 0\n",
    "    with open(fin, buffering=20000) as f:\n",
    "        for line in f:\n",
    "            try:\n",
    "                features = list(eval(line.split('::')[0]))\n",
    "                label = list(eval(line.split('::')[1]))\n",
    "\n",
    "                feature_sets.append(features)\n",
    "                labels.append(label)\n",
    "                counter += 1\n",
    "            except:\n",
    "                pass\n",
    "    print(counter)\n",
    "    feature_sets = np.array(feature_sets)\n",
    "    labels = np.array(labels)\n",
    "\n",
    "create_test_data_pickle('test_set.csv')"
   ]
  },
  {
   "cell_type": "code",
   "execution_count": null,
   "metadata": {},
   "outputs": [],
   "source": [
    "def convert_to_vec(fin,fout,lexicon_pickle):\n",
    "    with open(lexicon_pickle,'rb') as f:\n",
    "        lexicon = pickle.load(f)\n",
    "    outfile = open(fout,'a')\n",
    "    with open(fin, buffering=20000, encoding='latin-1') as f:\n",
    "        counter = 0\n",
    "        for line in f:\n",
    "            counter +=1\n",
    "            label = line.split(':::')[0]\n",
    "            tweet = line.split(':::')[1]\n",
    "            current_words = word_tokenize(tweet.lower())\n",
    "            current_words = [lemmatizer.lemmatize(i) for i in current_words]\n",
    "\n",
    "            features = np.zeros(len(lexicon))\n",
    "\n",
    "            for word in current_words:\n",
    "                if word.lower() in lexicon:\n",
    "                    index_value = lexicon.index(word.lower())\n",
    "                    # OR DO +=1, test both\n",
    "                    features[index_value] += 1\n",
    "\n",
    "            features = list(features)\n",
    "            outline = str(features)+'::'+str(label)+'\\n'\n",
    "            outfile.write(outline)\n",
    "\n",
    "        print(counter)\n",
    "\n",
    "convert_to_vec('test_set.csv','processed-test-set.csv','lexicon-2500-2638.pickle')"
   ]
  },
  {
   "cell_type": "code",
   "execution_count": null,
   "metadata": {},
   "outputs": [],
   "source": [
    "def shuffle_data(fin):\n",
    "    df = pd.read_csv(fin, error_bad_lines=False)\n",
    "    df = df.iloc[np.random.permutation(len(df))]\n",
    "    print(df.head())\n",
    "    df.to_csv('train_set_shuffled.csv', index=False)\n",
    "\n",
    "shuffle_data('train_set.csv')"
   ]
  },
  {
   "cell_type": "code",
   "execution_count": null,
   "metadata": {},
   "outputs": [],
   "source": [
    "def create_test_data_pickle(fin):\n",
    "\n",
    "    feature_sets = []\n",
    "    labels = []\n",
    "    counter = 0\n",
    "    with open(fin, buffering=20000) as f:\n",
    "        for line in f:\n",
    "            try:\n",
    "                features = list(eval(line.split('::')[0]))\n",
    "                label = list(eval(line.split('::')[1]))\n",
    "\n",
    "                feature_sets.append(features)\n",
    "                labels.append(label)\n",
    "                counter += 1\n",
    "            except:\n",
    "                pass\n",
    "    print(counter)\n",
    "    feature_sets = np.array(feature_sets)\n",
    "    labels = np.array(labels)\n",
    "\n",
    "create_test_data_pickle('processed-test-set.csv')"
   ]
  },
  {
   "cell_type": "markdown",
   "metadata": {},
   "source": [
    "## Neural Network Script:"
   ]
  },
  {
   "cell_type": "code",
   "execution_count": null,
   "metadata": {},
   "outputs": [],
   "source": [
    "import tensorflow.compat.v1 as tf\n",
    "tf.disable_v2_behavior()\n",
    "#import pickle\n",
    "#import numpy as np\n",
    "#import nltk\n",
    "#from nltk.tokenize import word_tokenize\n",
    "#from nltk.stem import WordNetLemmatizer\n",
    "#lemmatizer = WordNetLemmatizer()\n",
    "\n",
    "n_nodes_hl1 = 500\n",
    "n_nodes_hl2 = 500\n",
    "\n",
    "n_classes = 2\n",
    "\n",
    "batch_size = 32\n",
    "total_batches = int(1600000/batch_size)\n",
    "hm_epochs = 10\n",
    "\n",
    "x = tf.placeholder('float')\n",
    "y = tf.placeholder('float')\n",
    "\n",
    "hidden_1_layer = {'f_fum':n_nodes_hl1,\n",
    "'weight':tf.Variable(tf.random.normal([2638, n_nodes_hl1])),\n",
    "                  'bias':tf.Variable(tf.random.normal([n_nodes_hl1]))}\n",
    "\n",
    "hidden_2_layer = {'f_fum':n_nodes_hl2,\n",
    "                  'weight':tf.Variable(tf.random.normal([n_nodes_hl1, n_nodes_hl2])),\n",
    "                  'bias':tf.Variable(tf.random.normal([n_nodes_hl2]))}\n",
    "\n",
    "output_layer = {'f_fum':None,\n",
    "                'weight':tf.Variable(tf.random.normal([n_nodes_hl2, n_classes])),\n",
    "                'bias':tf.Variable(tf.random.normal([n_classes])),}"
   ]
  },
  {
   "cell_type": "code",
   "execution_count": null,
   "metadata": {},
   "outputs": [],
   "source": [
    "def neural_network_model(data):\n",
    "    l1 = tf.add(tf.matmul(data,hidden_1_layer['weight']), hidden_1_layer['bias'])\n",
    "    l1 = tf.nn.relu(l1)\n",
    "    l2 = tf.add(tf.matmul(l1,hidden_2_layer['weight']), hidden_2_layer['bias'])\n",
    "    l2 = tf.nn.relu(l2)\n",
    "    output = tf.matmul(l2,output_layer['weight']) + output_layer['bias']\n",
    "    return output"
   ]
  },
  {
   "cell_type": "code",
   "execution_count": null,
   "metadata": {},
   "outputs": [],
   "source": [
    "saver = tf.train.Saver()\n",
    "tf_log = 'tf.log'"
   ]
  },
  {
   "cell_type": "code",
   "execution_count": null,
   "metadata": {},
   "outputs": [],
   "source": [
    "def train_neural_network(x):\n",
    "    prediction = neural_network_model(x)\n",
    "    cost = tf.reduce_mean( tf.nn.softmax_cross_entropy_with_logits(logits=prediction, labels=y))\n",
    "    optimizer = tf.train.AdamOptimizer(learning_rate=0.001).minimize(cost)\n",
    "    with tf.Session() as sess:\n",
    "        sess.run(tf.global_variables_initializer())\n",
    "        try:\n",
    "            epoch = int(open(tf_log,'r').read().split('\\n')[-2])+1\n",
    "            print('STARTING:',epoch)\n",
    "        except:\n",
    "            epoch = 1\n",
    "\n",
    "        while epoch <= hm_epochs:\n",
    "            if epoch != 1:\n",
    "                saver.restore(sess,\"model.ckpt\")\n",
    "            epoch_loss = 1\n",
    "            with open('lexicon.pickle','rb') as f:\n",
    "                lexicon = pickle.load(f)\n",
    "            with open('train_set_shuffled.csv', buffering=20000, encoding='latin-1') as f:\n",
    "                batch_x = []\n",
    "                batch_y = []\n",
    "                batches_run = 0\n",
    "                for line in f:\n",
    "                    label = line.split(':::')[0]\n",
    "                    tweet = line.split(':::')[1]\n",
    "                    current_words = word_tokenize(tweet.lower())\n",
    "                    current_words = [lemmatizer.lemmatize(i) for i in current_words]\n",
    "\n",
    "                    features = np.zeros(len(lexicon))\n",
    "\n",
    "                    for word in current_words:\n",
    "                        if word.lower() in lexicon:\n",
    "                            index_value = lexicon.index(word.lower())\n",
    "                            # OR DO +=1, test both\n",
    "                            features[index_value] += 1\n",
    "                    line_x = list(features)\n",
    "                    line_y = eval(label)\n",
    "                    batch_x.append(line_x)\n",
    "                    batch_y.append(line_y)\n",
    "                    if len(batch_x) >= batch_size:\n",
    "                        _, c = sess.run([optimizer, cost], feed_dict={x: np.array(batch_x),y: np.array(batch_y)})\n",
    "                        epoch_loss += c\n",
    "                        batch_x = []\n",
    "                        batch_y = []\n",
    "                        batches_run +=1\n",
    "                        print('Batch run:',batches_run,'/',total_batches,'| Epoch:',epoch,'| Batch Loss:',c,)\n",
    "\n",
    "            saver.save(sess, \"model.ckpt\")\n",
    "            print('Epoch', epoch, 'completed out of',hm_epochs,'loss:',epoch_loss)\n",
    "            with open(tf_log,'a') as f:\n",
    "                f.write(str(epoch)+'\\n') \n",
    "            epoch +=1"
   ]
  },
  {
   "cell_type": "code",
   "execution_count": null,
   "metadata": {},
   "outputs": [],
   "source": [
    "train_neural_network(x)"
   ]
  },
  {
   "cell_type": "code",
   "execution_count": null,
   "metadata": {},
   "outputs": [],
   "source": [
    "def test_neural_network():\n",
    "    prediction = neural_network_model(x)\n",
    "    with tf.Session() as sess:\n",
    "        sess.run(tf.global_variables_initializer())\n",
    "        for epoch in range(hm_epochs):\n",
    "            try:\n",
    "                saver.restore(sess,\"model.ckpt\")\n",
    "            except Exception as e:\n",
    "                print(str(e))\n",
    "            epoch_loss = 0\n",
    "            \n",
    "        correct = tf.equal(tf.argmax(prediction, 1), tf.argmax(y, 1))\n",
    "        accuracy = tf.reduce_mean(tf.cast(correct, 'float'))\n",
    "        feature_sets = []\n",
    "        labels = []\n",
    "        counter = 0\n",
    "        with open('processed-test-set.csv', buffering=20000) as f:\n",
    "            for line in f:\n",
    "                try:\n",
    "                    features = list(eval(line.split('::')[0]))\n",
    "                    label = list(eval(line.split('::')[1]))\n",
    "                    feature_sets.append(features)\n",
    "                    labels.append(label)\n",
    "                    counter += 1\n",
    "                except:\n",
    "                    pass\n",
    "        print('Tested',counter,'samples.')\n",
    "        test_x = np.array(feature_sets)\n",
    "        test_y = np.array(labels)\n",
    "        print('Accuracy:',accuracy.eval({x:test_x, y:test_y}))"
   ]
  },
  {
   "cell_type": "code",
   "execution_count": null,
   "metadata": {},
   "outputs": [],
   "source": [
    "test_neural_network()"
   ]
  },
  {
   "cell_type": "code",
   "execution_count": null,
   "metadata": {},
   "outputs": [],
   "source": [
    "from collections import Counter\n",
    "\n",
    "df = pd.read_csv('train_set.csv',names=['sentiment','tweet'], delimiter=':::')\n",
    "print(Counter(df['sentiment']))"
   ]
  },
  {
   "cell_type": "code",
   "execution_count": null,
   "metadata": {},
   "outputs": [],
   "source": [
    "Counter({})"
   ]
  },
  {
   "cell_type": "code",
   "execution_count": null,
   "metadata": {},
   "outputs": [],
   "source": []
  }
 ],
 "metadata": {
  "kernelspec": {
   "display_name": "tensorflow-gpu",
   "language": "python",
   "name": "gputensorflow"
  },
  "language_info": {
   "codemirror_mode": {
    "name": "ipython",
    "version": 3
   },
   "file_extension": ".py",
   "mimetype": "text/x-python",
   "name": "python",
   "nbconvert_exporter": "python",
   "pygments_lexer": "ipython3",
   "version": "3.7.7"
  }
 },
 "nbformat": 4,
 "nbformat_minor": 4
}
