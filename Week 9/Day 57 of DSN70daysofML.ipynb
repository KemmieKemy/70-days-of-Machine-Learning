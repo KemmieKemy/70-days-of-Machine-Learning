{
  "nbformat": 4,
  "nbformat_minor": 0,
  "metadata": {
    "kernelspec": {
      "display_name": "tensorflow-gpu",
      "language": "python",
      "name": "gputensorflow"
    },
    "language_info": {
      "codemirror_mode": {
        "name": "ipython",
        "version": 3
      },
      "file_extension": ".py",
      "mimetype": "text/x-python",
      "name": "python",
      "nbconvert_exporter": "python",
      "pygments_lexer": "ipython3",
      "version": "3.7.7"
    },
    "colab": {
      "name": "Day 57 of DSN70daysofML.ipynb",
      "provenance": []
    },
    "accelerator": "GPU"
  },
  "cells": [
    {
      "cell_type": "markdown",
      "metadata": {
        "id": "cJYKW3Txp8R0",
        "colab_type": "text"
      },
      "source": [
        "# Day 57: 70 Days Pre-Bootcamp Online Class with Data Science Nigeria - Machine Learning Stream #DSN70daysofML\n",
        "Intro - Training a neural network to play a game with TensorFlow and Open AI <br>"
      ]
    },
    {
      "cell_type": "code",
      "metadata": {
        "id": "4I0USmhmsoGb",
        "colab_type": "code",
        "colab": {}
      },
      "source": [
        "import gym\n",
        "import random\n",
        "import numpy as np\n",
        "import tflearn\n",
        "from tflearn.layers.core import input_data, dropout, fully_connected\n",
        "from tflearn.layers.estimator import regression\n",
        "from statistics import median, mean\n",
        "from collections import Counter\n",
        "\n",
        "LR = 1e-3\n",
        "env = gym.make(\"CartPole-v0\")\n",
        "env.reset()\n",
        "goal_steps = 500\n",
        "score_requirement = 50\n",
        "initial_games = 10000"
      ],
      "execution_count": 10,
      "outputs": []
    },
    {
      "cell_type": "code",
      "metadata": {
        "id": "V7fJ6q8dwpS1",
        "colab_type": "code",
        "colab": {}
      },
      "source": [
        ""
      ],
      "execution_count": null,
      "outputs": []
    }
  ]
}